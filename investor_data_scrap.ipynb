{
 "cells": [
  {
   "cell_type": "code",
   "execution_count": 42,
   "id": "extended-footage",
   "metadata": {},
   "outputs": [],
   "source": [
    "from bs4 import BeautifulSoup\n",
    "from selenium import webdriver\n",
    "from time import sleep\n",
    "from selenium.webdriver.common.keys import Keys\n",
    "import pandas as pd\n",
    "import numpy as np\n",
    "\n",
    "import urllib.request "
   ]
  },
  {
   "cell_type": "code",
   "execution_count": 51,
   "id": "incredible-peter",
   "metadata": {},
   "outputs": [],
   "source": [
    "'''Web driver'''\n",
    "driver = webdriver.Chrome(\"./chromedriver.exe\")\n",
    "driver.get('https://www.crunchbase.com/login?redirect_to=%2Fhub%2Fangel-investors-investments-in-united-states-%2Fhub_overview_investor')\n",
    "#driver.get(\"https://www.crunchbase.com/hub/angel-investors-investments-in-united-states-/hub_overview_investor/top?tab=top_orgs\")\n",
    "\n",
    "sleep(2)\n",
    "\n",
    "username = 'nhoang1001@gmail.com'\n",
    "password = 'Dizone1234'\n",
    "\n",
    "driver.find_element_by_name('email').send_keys(username)\n",
    "sleep(1)\n",
    "driver.find_element_by_name('password').send_keys(password)\n",
    "sleep(1)\n",
    "driver.find_element_by_xpath('//*[@id=\"mat-tab-content-0-0\"]/div/login/form/button/span[1]').click()\n",
    "sleep(5)\n",
    "driver.find_element_by_xpath('//*[@id=\"mat-tab-content-1-0\"]/div/profile-section/section-card/mat-card/div/div/list-card/list-card-more-results/a/span[1]/label-with-icon/span').click()\n",
    "sleep(5)\n",
    "driver.find_element_by_xpath('//*[@id=\"mat-tab-label-6-3\"]/div/span').click()\n",
    "sleep(5)\n",
    "\n",
    "\n",
    "for i in range(7):\n",
    "    driver.find_element_by_xpath('/html/body/chrome/div/mat-sidenav-container/mat-sidenav-content/div/ng-component/entity-v2/page-layout/div/div/div/page-centered-layout[2]/div/profile-section/section-card/mat-card/div[2]/div/tabs-card/mat-tab-group/div/mat-tab-body[4]/div/profile-section/section-card/mat-card/div/div/list-card/list-card-more-results/button/span[1]').click()\n",
    "    sleep(5)\n",
    "\n",
    "\n",
    "table = driver.find_element_by_tag_name('table')"
   ]
  },
  {
   "cell_type": "code",
   "execution_count": 55,
   "id": "listed-mandate",
   "metadata": {},
   "outputs": [],
   "source": [
    "items = table.text.split('\\n')"
   ]
  },
  {
   "cell_type": "code",
   "execution_count": 65,
   "id": "becoming-physiology",
   "metadata": {},
   "outputs": [],
   "source": [
    "column_names = items[:3]\n",
    "for i in range(len(column_names)):\n",
    "    column_names[i] = column_names[i].strip()\n",
    "\n",
    "data = []\n",
    "for i in range(3, len(items), 3):\n",
    "    row = []\n",
    "    for j in range(3):\n",
    "        row.append(items[i + j].strip())\n",
    "    data.append(row)\n",
    "    \n",
    "df = pd.DataFrame(data, columns=column_names)"
   ]
  },
  {
   "cell_type": "code",
   "execution_count": 68,
   "id": "approximate-memorial",
   "metadata": {},
   "outputs": [],
   "source": [
    "df.to_csv('investor_data.csv', index=False)"
   ]
  },
  {
   "cell_type": "code",
   "execution_count": null,
   "id": "italic-stocks",
   "metadata": {},
   "outputs": [],
   "source": []
  }
 ],
 "metadata": {
  "kernelspec": {
   "display_name": "Python 3",
   "language": "python",
   "name": "python3"
  },
  "language_info": {
   "codemirror_mode": {
    "name": "ipython",
    "version": 3
   },
   "file_extension": ".py",
   "mimetype": "text/x-python",
   "name": "python",
   "nbconvert_exporter": "python",
   "pygments_lexer": "ipython3",
   "version": "3.8.3"
  }
 },
 "nbformat": 4,
 "nbformat_minor": 5
}
